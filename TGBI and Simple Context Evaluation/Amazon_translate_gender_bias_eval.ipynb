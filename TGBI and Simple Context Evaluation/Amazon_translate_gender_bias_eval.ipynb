{
 "cells": [
  {
   "cell_type": "code",
   "execution_count": 2,
   "metadata": {},
   "outputs": [],
   "source": [
    "import math\n",
    "import nltk"
   ]
  },
  {
   "cell_type": "code",
   "execution_count": 3,
   "metadata": {},
   "outputs": [],
   "source": [
    "def read_data(filename):\n",
    "    with open(filename, 'r') as f:\n",
    "        data = [line.split('\\t') for line in f.read().splitlines()]\n",
    "    return data"
   ]
  },
  {
   "cell_type": "code",
   "execution_count": 15,
   "metadata": {},
   "outputs": [],
   "source": [
    "Tofo = read_data(\"corpus/amazontranslate/total_formal.txt\")\n",
    "\n",
    "Toimw = read_data(\"corpus/amazontranslate/total_impolite_winf.txt\")\n",
    "\n",
    "Toimwo = read_data(\"corpus/amazontranslate/total_impolite_woinf.txt\")\n",
    "\n",
    "Toin = read_data(\"corpus/amazontranslate/total_informal.txt\")\n",
    "\n",
    "Tojob = read_data(\"corpus/amazontranslate/total_job.txt\")\n",
    "\n",
    "Toneg= read_data(\"corpus/amazontranslate/total_neg.txt\")\n",
    "\n",
    "Topow= read_data(\"corpus/amazontranslate/total_polite_winf.txt\")\n",
    "\n",
    "Topowo= read_data(\"corpus/amazontranslate/total_polite_woinf.txt\")\n",
    "\n",
    "Topos= read_data(\"corpus/amazontranslate/total_pos.txt\")"
   ]
  },
  {
   "cell_type": "code",
   "execution_count": 16,
   "metadata": {},
   "outputs": [],
   "source": [
    "def eval_p(data):\n",
    "    n_w=0\n",
    "    n_m=0\n",
    "    n_n=0\n",
    "    count = 0\n",
    "    for i in range(len(data)):\n",
    "        count = count+1\n",
    "        s = data[i][0]\n",
    "        token = nltk.word_tokenize(s.lower())\n",
    "        if 'she' in token or 'her' in token or 'woman' in token or 'girl' in token:\n",
    "            n_w = n_w+1\n",
    "        elif 'he' in token or 'him' in token or 'man' in token or 'boy' in token or 'guy' in token:\n",
    "            n_m = n_m+1\n",
    "        else:\n",
    "            n_n = n_n+1\n",
    "    p_w = n_w/count\n",
    "    p_m = n_m/count\n",
    "    p_n = n_n/count\n",
    "    return math.sqrt(p_w*p_m+p_n), p_m, p_w, p_n"
   ]
  },
  {
   "cell_type": "code",
   "execution_count": 17,
   "metadata": {},
   "outputs": [],
   "source": [
    "listt = [Tofo,Toimw,Toimwo,Toin,Tojob,Toneg,Topow,Topowo,Topos]"
   ]
  },
  {
   "cell_type": "code",
   "execution_count": 18,
   "metadata": {},
   "outputs": [
    {
     "name": "stdout",
     "output_type": "stream",
     "text": [
      "(0.6911870315051897, 0.5043511161558835, 0.036133181990162695, 0.45951570185395385)\n",
      "(0.669330045826464, 0.5214992389649924, 0.06373668188736682, 0.4147640791476408)\n",
      "(0.6558191304315469, 0.5407153729071538, 0.06354642313546423, 0.395738203957382)\n",
      "(0.6823072507257084, 0.5026636225266362, 0.0639269406392694, 0.4334094368340944)\n",
      "(0.41101308112224993, 0.824799506477483, 0.03578038247995065, 0.13942011104256632)\n",
      "(0.8026435575095768, 0.33001808318264014, 0.03842676311030741, 0.6315551537070524)\n",
      "(0.7044438337605925, 0.4850548618993568, 0.036322360953461974, 0.4786227771471812)\n",
      "(0.7252978925841468, 0.4691497366440933, 0.009029345372460496, 0.5218209179834462)\n",
      "(0.844986341220044, 0.2369918699186992, 0.06422764227642276, 0.698780487804878)\n"
     ]
    }
   ],
   "source": [
    "for data in listt:\n",
    "    a = eval_p(data)\n",
    "    print(a)"
   ]
  },
  {
   "cell_type": "code",
   "execution_count": 4,
   "metadata": {},
   "outputs": [],
   "source": [
    "female_female = read_data(\"corpus/amazontranslate/en.me_female_my_mitra_female_set.txt\")\n",
    "female_male = read_data(\"corpus/amazontranslate/en.me_female_my_mitra_male_set.txt\")\n",
    "male_female = read_data(\"corpus/amazontranslate/en.me_male_my_mitra_female_set.txt\")\n",
    "male_male = read_data(\"corpus/amazontranslate/en.me_male_my_mitra_male_set.txt\")"
   ]
  },
  {
   "cell_type": "code",
   "execution_count": 5,
   "metadata": {},
   "outputs": [],
   "source": [
    "def eval_p_context(data):\n",
    "    n_w=0\n",
    "    n_m=0\n",
    "    n_n=0\n",
    "    count = 0\n",
    "    for i in range(len(data)):\n",
    "        count = count+1\n",
    "        s = data[i][0]\n",
    "        token = nltk.word_tokenize(s.lower())\n",
    "        if 'her' in token:\n",
    "            n_w = n_w+1\n",
    "        elif 'him' in token:\n",
    "            n_m = n_m+1\n",
    "        else:\n",
    "            print(i)\n",
    "            n_n = n_n+1\n",
    "    p_w = n_w/count\n",
    "    p_m = n_m/count\n",
    "    p_n = n_n/count\n",
    "    return p_m*100, p_w*100, p_n*100"
   ]
  },
  {
   "cell_type": "code",
   "execution_count": 6,
   "metadata": {},
   "outputs": [],
   "source": [
    "listt2 = [female_female, female_male, male_female, male_male]"
   ]
  },
  {
   "cell_type": "code",
   "execution_count": 7,
   "metadata": {},
   "outputs": [
    {
     "name": "stdout",
     "output_type": "stream",
     "text": [
      "(95.61157796451914, 4.3884220354808585, 0.0)\n",
      "(95.70494864612512, 4.295051353874883, 0.0)\n",
      "(97.2922502334267, 2.707749766573296, 0.0)\n",
      "(97.47899159663865, 2.5210084033613445, 0.0)\n"
     ]
    }
   ],
   "source": [
    "for data in listt2:\n",
    "    a = eval_p_context(data)\n",
    "    print(a)"
   ]
  },
  {
   "cell_type": "code",
   "execution_count": null,
   "metadata": {},
   "outputs": [],
   "source": []
  }
 ],
 "metadata": {
  "kernelspec": {
   "display_name": "Python 3.7.9 ('appliedml')",
   "language": "python",
   "name": "python3"
  },
  "language_info": {
   "codemirror_mode": {
    "name": "ipython",
    "version": 3
   },
   "file_extension": ".py",
   "mimetype": "text/x-python",
   "name": "python",
   "nbconvert_exporter": "python",
   "pygments_lexer": "ipython3",
   "version": "3.7.9 | packaged by conda-forge | (default, Dec  9 2020, 20:58:55) \n[Clang 11.0.0 ]"
  },
  "orig_nbformat": 4,
  "vscode": {
   "interpreter": {
    "hash": "7ba5dc8512280f8c4ac9c56a762cb2cea71742edc658aaee76e59d0cc9c54a3c"
   }
  }
 },
 "nbformat": 4,
 "nbformat_minor": 2
}
