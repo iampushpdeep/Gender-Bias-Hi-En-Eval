{
 "cells": [
  {
   "cell_type": "code",
   "execution_count": 1,
   "metadata": {},
   "outputs": [],
   "source": [
    "import math\n",
    "import nltk"
   ]
  },
  {
   "cell_type": "code",
   "execution_count": 2,
   "metadata": {},
   "outputs": [],
   "source": [
    "def read_data(filename):\n",
    "    with open(filename, 'r') as f:\n",
    "        data = [line.split('\\t') for line in f.read().splitlines()]\n",
    "    return data"
   ]
  },
  {
   "cell_type": "code",
   "execution_count": 3,
   "metadata": {},
   "outputs": [],
   "source": [
    "Tofo = read_data(\"corpus/microsofttranslate/total_formal.txt\")\n",
    "\n",
    "Toimw = read_data(\"corpus/microsofttranslate/total_impolite_winf.txt\")\n",
    "\n",
    "Toimwo = read_data(\"corpus/microsofttranslate/total_impolite_woinf.txt\")\n",
    "\n",
    "Toin = read_data(\"corpus/microsofttranslate/total_informal.txt\")\n",
    "\n",
    "Tojob = read_data(\"corpus/microsofttranslate/total_job.txt\")\n",
    "\n",
    "Toneg= read_data(\"corpus/microsofttranslate/total_neg.txt\")\n",
    "\n",
    "Topow= read_data(\"corpus/microsofttranslate/total_polite_winf.txt\")\n",
    "\n",
    "Topowo= read_data(\"corpus/microsofttranslate/total_polite_woinf.txt\")\n",
    "\n",
    "Topos= read_data(\"corpus/microsofttranslate/total_pos.txt\")"
   ]
  },
  {
   "cell_type": "code",
   "execution_count": 4,
   "metadata": {},
   "outputs": [],
   "source": [
    "def eval_p(data):\n",
    "    n_w=0\n",
    "    n_m=0\n",
    "    n_n=0\n",
    "    count = 0\n",
    "    for i in range(len(data)):\n",
    "        count = count+1\n",
    "        s = data[i][0]\n",
    "        token = nltk.word_tokenize(s.lower())\n",
    "        if 'she' in token or 'her' in token or 'woman' in token or 'girl' in token:\n",
    "            n_w = n_w+1\n",
    "        elif 'he' in token or 'him' in token or 'man' in token or 'boy' in token or 'guy' in token:\n",
    "            n_m = n_m+1\n",
    "        else:\n",
    "            n_n = n_n+1\n",
    "    p_w = n_w/count\n",
    "    p_m = n_m/count\n",
    "    p_n = n_n/count\n",
    "    return math.sqrt(p_w*p_m+p_n), p_m, p_w, p_n"
   ]
  },
  {
   "cell_type": "code",
   "execution_count": 5,
   "metadata": {},
   "outputs": [],
   "source": [
    "listt = [Tofo,Toimw,Toimwo,Toin,Tojob,Toneg,Topow,Topowo,Topos]"
   ]
  },
  {
   "cell_type": "code",
   "execution_count": 6,
   "metadata": {},
   "outputs": [
    {
     "name": "stdout",
     "output_type": "stream",
     "text": [
      "(0.7239347010014163, 0.4640559969731366, 0.02213393870601589, 0.5138100643208475)\n",
      "(0.4321104232257593, 0.8065068493150684, 0.0350076103500761, 0.1584855403348554)\n",
      "(0.3943279593750127, 0.8375190258751902, 0.04299847792998478, 0.11948249619482496)\n",
      "(0.46737557121477946, 0.7754946727549468, 0.027016742770167426, 0.19748858447488585)\n",
      "(0.5740365818670026, 0.6597779148673658, 0.03146206045650833, 0.30876002467612584)\n",
      "(0.672828364131518, 0.5402350813743219, 0.015370705244122965, 0.44439421338155516)\n",
      "(0.747488098643597, 0.43321982595535374, 0.014188422247446084, 0.5525917517972001)\n",
      "(0.9506995627326233, 0.09480812641083522, 0.0015048908954100827, 0.9036869826937547)\n",
      "(0.7200544555313374, 0.47032520325203253, 0.02113821138211382, 0.5085365853658537)\n"
     ]
    }
   ],
   "source": [
    "for data in listt:\n",
    "    a = eval_p(data)\n",
    "    print(a)"
   ]
  },
  {
   "cell_type": "code",
   "execution_count": 7,
   "metadata": {},
   "outputs": [],
   "source": [
    "female_female = read_data(\"corpus/microsofttranslate/me_female_my_mitra_female_set.txt\")\n",
    "female_male = read_data(\"corpus/microsofttranslate/me_female_my_mitra_male_set.txt\")\n",
    "male_female = read_data(\"corpus/microsofttranslate/me_male_my_mitra_female_set.txt\")\n",
    "male_male = read_data(\"corpus/microsofttranslate/me_male_my_mitra_male_set.txt\")"
   ]
  },
  {
   "cell_type": "code",
   "execution_count": 8,
   "metadata": {},
   "outputs": [],
   "source": [
    "def eval_p_context(data):\n",
    "    n_w=0\n",
    "    n_m=0\n",
    "    n_n=0\n",
    "    count = 0\n",
    "    for i in range(len(data)):\n",
    "        count = count+1\n",
    "        s = data[i][0]\n",
    "        token = nltk.word_tokenize(s.lower())\n",
    "        if 'her' in token:\n",
    "            n_w = n_w+1\n",
    "        elif 'him' in token:\n",
    "            n_m = n_m+1\n",
    "        else:\n",
    "            n_n = n_n+1\n",
    "    p_w = n_w/count\n",
    "    p_m = n_m/count\n",
    "    p_n = n_n/count\n",
    "    return p_m*100, p_w*100, p_n*100"
   ]
  },
  {
   "cell_type": "code",
   "execution_count": 9,
   "metadata": {},
   "outputs": [],
   "source": [
    "listt2 = [female_female, female_male, male_female, male_male]"
   ]
  },
  {
   "cell_type": "code",
   "execution_count": 10,
   "metadata": {},
   "outputs": [
    {
     "name": "stdout",
     "output_type": "stream",
     "text": [
      "(98.97292250233427, 1.0270774976657329, 0.0)\n"
     ]
    },
    {
     "name": "stdout",
     "output_type": "stream",
     "text": [
      "(99.71988795518207, 0.2801120448179272, 0.0)\n",
      "(66.01307189542483, 33.98692810457516, 0.0)\n",
      "(98.59943977591037, 1.400560224089636, 0.0)\n"
     ]
    }
   ],
   "source": [
    "for data in listt2:\n",
    "    a = eval_p_context(data)\n",
    "    print(a)"
   ]
  },
  {
   "cell_type": "code",
   "execution_count": null,
   "metadata": {},
   "outputs": [],
   "source": []
  }
 ],
 "metadata": {
  "kernelspec": {
   "display_name": "Python 3.7.9 ('appliedml')",
   "language": "python",
   "name": "python3"
  },
  "language_info": {
   "codemirror_mode": {
    "name": "ipython",
    "version": 3
   },
   "file_extension": ".py",
   "mimetype": "text/x-python",
   "name": "python",
   "nbconvert_exporter": "python",
   "pygments_lexer": "ipython3",
   "version": "3.11.4"
  },
  "orig_nbformat": 4,
  "vscode": {
   "interpreter": {
    "hash": "7ba5dc8512280f8c4ac9c56a762cb2cea71742edc658aaee76e59d0cc9c54a3c"
   }
  }
 },
 "nbformat": 4,
 "nbformat_minor": 2
}
