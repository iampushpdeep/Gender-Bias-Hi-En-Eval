{
 "cells": [
  {
   "cell_type": "code",
   "execution_count": 9,
   "metadata": {},
   "outputs": [],
   "source": [
    "import math\n",
    "import nltk"
   ]
  },
  {
   "cell_type": "code",
   "execution_count": 2,
   "metadata": {},
   "outputs": [],
   "source": [
    "def read_data(filename):\n",
    "    with open(filename, 'r') as f:\n",
    "        data = [line.split('\\t') for line in f.read().splitlines()]\n",
    "    return data"
   ]
  },
  {
   "cell_type": "code",
   "execution_count": 3,
   "metadata": {},
   "outputs": [],
   "source": [
    "Tofo = read_data(\"corpus/translation-google-results/corpus_gender-bias_total_formal_en_translations.txt\")\n",
    "\n",
    "Toimw = read_data(\"corpus/translation-google-results/corpus_gender-bias_total_impolite_winf_en_translations.txt\")\n",
    "\n",
    "Toimwo = read_data(\"corpus/translation-google-results/corpus_gender-bias_total_impolite_woinf_en_translations.txt\")\n",
    "\n",
    "Toin = read_data(\"corpus_indictrans/total_informal_gtrans.txt\")\n",
    "\n",
    "Tojob = read_data(\"corpus/translation-google-results/corpus_gender-bias_total_job_en_translations.txt\")\n",
    "\n",
    "Toneg= read_data(\"corpus/translation-google-results/corpus_gender-bias_total_neg_en_translations.txt\")\n",
    "\n",
    "Topow= read_data(\"corpus/translation-google-results/corpus_gender-bias_total_polite_winf_en_translations.txt\")\n",
    "\n",
    "Topowo= read_data(\"corpus/translation-google-results/corpus_gender-bias_total_polite_woinf_en_translations.txt\")\n",
    "\n",
    "Topos= read_data(\"corpus/translation-google-results/corpus_gender-bias_total_pos_en_translations.txt\")"
   ]
  },
  {
   "cell_type": "code",
   "execution_count": 4,
   "metadata": {},
   "outputs": [],
   "source": [
    "def eval_p(data):\n",
    "    n_w=0\n",
    "    n_m=0\n",
    "    n_n=0\n",
    "    count = 0\n",
    "    for i in range(len(data)):\n",
    "        count = count+1\n",
    "        s = data[i][0]\n",
    "        token = nltk.word_tokenize(s.lower())\n",
    "        if 'she' in token or 'her' in token or 'woman' in token or 'girl' in token:\n",
    "            n_w = n_w+1\n",
    "        elif 'he' in token or 'him' in token or 'man' in token or 'boy' in token or 'guy' in token:\n",
    "            n_m = n_m+1\n",
    "        else:\n",
    "            n_n = n_n+1\n",
    "    p_w = n_w/count\n",
    "    p_m = n_m/count\n",
    "    p_n = n_n/count\n",
    "    return math.sqrt(p_w*p_m+p_n), p_m, p_w, p_n"
   ]
  },
  {
   "cell_type": "code",
   "execution_count": 5,
   "metadata": {},
   "outputs": [],
   "source": [
    "listt = [Tofo,Toimw,Toimwo,Toin,Tojob,Toneg,Topow,Topowo,Topos]"
   ]
  },
  {
   "cell_type": "code",
   "execution_count": 8,
   "metadata": {},
   "outputs": [
    {
     "name": "stdout",
     "output_type": "stream",
     "text": [
      "(0.7081770653498742, 0.4405978055240257, 0.10348089292470677, 0.4559213015512675)\n",
      "(0.5932935094861935, 0.5694444444444444, 0.18245814307458144, 0.2480974124809741)\n",
      "(0.5340953226159628, 0.6575342465753424, 0.16704718417047185, 0.1754185692541857)\n",
      "(0.6226412926161077, 0.591324200913242, 0.05136986301369863, 0.3573059360730594)\n",
      "(0.5314964311976986, 0.6739666872301049, 0.13355953115360888, 0.19247378161628625)\n",
      "(0.7634005687098729, 0.3462929475587703, 0.10849909584086799, 0.5452079566003617)\n",
      "(0.754956856463796, 0.3531971244797579, 0.11880438895194854, 0.5279984865682936)\n",
      "(0.8616931218073147, 0.22573363431151242, 0.041008276899924756, 0.7332580887885628)\n",
      "(0.7875506146606639, 0.2621951219512195, 0.15934959349593497, 0.5784552845528456)\n"
     ]
    }
   ],
   "source": [
    "for data in listt:\n",
    "    a = eval_p(data)\n",
    "    print(a)"
   ]
  },
  {
   "cell_type": "code",
   "execution_count": 3,
   "metadata": {},
   "outputs": [],
   "source": [
    "female_female = read_data(\"corpus/translation-google-results/corpus_gender-bias_me_female_my_mitra_female_set_en_translations.txt\")\n",
    "female_male = read_data(\"corpus/translation-google-results/corpus_gender-bias_me_female_my_mitra_male_set_en_translations.txt\")\n",
    "male_female = read_data(\"corpus/translation-google-results/corpus_gender-bias_me_male_my_mitra_female_set_en_translations.txt\")\n",
    "male_male = read_data(\"corpus/translation-google-results/corpus_gender-bias_me_male_my_mitra_male_set_en_translations.txt\")"
   ]
  },
  {
   "cell_type": "code",
   "execution_count": 7,
   "metadata": {},
   "outputs": [],
   "source": [
    "def eval_p_context(data):\n",
    "    n_w=0\n",
    "    n_m=0\n",
    "    n_n=0\n",
    "    count = 0\n",
    "    for i in range(len(data)):\n",
    "        count = count+1\n",
    "        s = data[i][0]\n",
    "        token = nltk.word_tokenize(s.lower())\n",
    "        if 'her' in token:\n",
    "            n_w = n_w+1\n",
    "        elif 'him' in token:\n",
    "            n_m = n_m+1\n",
    "        else:\n",
    "            print(i)\n",
    "            n_n = n_n+1\n",
    "    p_w = n_w/count\n",
    "    p_m = n_m/count\n",
    "    p_n = n_n/count\n",
    "    return p_m*100, p_w*100, p_n*100"
   ]
  },
  {
   "cell_type": "code",
   "execution_count": 5,
   "metadata": {},
   "outputs": [],
   "source": [
    "listt2 = [female_female, female_male, male_female, male_male]"
   ]
  },
  {
   "cell_type": "code",
   "execution_count": null,
   "metadata": {},
   "outputs": [],
   "source": []
  },
  {
   "cell_type": "code",
   "execution_count": 10,
   "metadata": {},
   "outputs": [
    {
     "name": "stdout",
     "output_type": "stream",
     "text": [
      "(1.680672268907563, 98.31932773109243, 0.0)\n",
      "(90.66293183940243, 9.337068160597573, 0.0)\n",
      "(2.427637721755369, 97.57236227824463, 0.0)\n",
      "(96.45191409897292, 3.5480859010270773, 0.0)\n"
     ]
    }
   ],
   "source": [
    "for data in listt2:\n",
    "    a = eval_p_context(data)\n",
    "    print(a)"
   ]
  }
 ],
 "metadata": {
  "kernelspec": {
   "display_name": "Python 3.7.9 ('appliedml')",
   "language": "python",
   "name": "python3"
  },
  "language_info": {
   "codemirror_mode": {
    "name": "ipython",
    "version": 3
   },
   "file_extension": ".py",
   "mimetype": "text/x-python",
   "name": "python",
   "nbconvert_exporter": "python",
   "pygments_lexer": "ipython3",
   "version": "3.7.9 | packaged by conda-forge | (default, Dec  9 2020, 20:58:55) \n[Clang 11.0.0 ]"
  },
  "orig_nbformat": 4,
  "vscode": {
   "interpreter": {
    "hash": "7ba5dc8512280f8c4ac9c56a762cb2cea71742edc658aaee76e59d0cc9c54a3c"
   }
  }
 },
 "nbformat": 4,
 "nbformat_minor": 2
}
